{
 "cells": [
  {
   "cell_type": "code",
   "execution_count": 1,
   "metadata": {},
   "outputs": [],
   "source": [
    "import requests\n",
    "from bs4 import BeautifulSoup\n",
    "import pandas as pd\n",
    "import qgrid\n",
    "import pygsheets\n",
    "from collections import namedtuple\n",
    "from itertools import zip_longest"
   ]
  },
  {
   "cell_type": "code",
   "execution_count": 2,
   "metadata": {},
   "outputs": [],
   "source": [
    "URL = 'http://www.brandkamp.de/produkte/chrysanthemen.html'\n",
    "r = requests.get(URL)\n",
    "soup = BeautifulSoup(r.text, 'html5lib')"
   ]
  },
  {
   "cell_type": "code",
   "execution_count": 3,
   "metadata": {},
   "outputs": [],
   "source": [
    "Filter = namedtuple('Filter',\n",
    "                    ['category', 'options'])\n",
    "\n",
    "\n",
    "def parse_filters(f):\n",
    "    category = f['data-filter-group']\n",
    "    opt_tags = f.find_all('option')\n",
    "    options = [opt['data-filter-value'][1:].strip() for opt in opt_tags[1:]]\n",
    "    return Filter(category=category, options=set(options))"
   ]
  },
  {
   "cell_type": "code",
   "execution_count": 4,
   "metadata": {},
   "outputs": [],
   "source": [
    "filters = []\n",
    "filter_container = soup.find(id='filters')\n",
    "for f in filter_container.select('select'):\n",
    "    filters.append(parse_filters(f))\n",
    "filters[0] = filters[0]._replace(category='cat')\n",
    "filters[1] = filters[1]._replace(category='subcat')\n",
    "\n",
    "\n",
    "def find_category(css_class):\n",
    "    for f in filters:\n",
    "        if css_class in f.options:\n",
    "            return f.category\n",
    "    return None"
   ]
  },
  {
   "cell_type": "code",
   "execution_count": 5,
   "metadata": {},
   "outputs": [],
   "source": [
    "FILTER_CATEGORIES = ['cat', 'subcat', 'color', 'time', 'form', 'size']\n",
    "Chrysamthemum = namedtuple('Chrysamthemum',\n",
    "                           ['id', 'name'] + FILTER_CATEGORIES)\n",
    "\n",
    "               \n",
    "def parse_product(pr):\n",
    "    text = pr.find('div', class_='product-text')\n",
    "    title = text.contents[0].get_text().strip().split()\n",
    "    id = title[0]\n",
    "    name = ' '.join(title[1:])\n",
    "    \n",
    "    filter_categories = dict(zip_longest(FILTER_CATEGORIES, []))\n",
    "    for css_class in pr['class'][5:]:\n",
    "        if css_class == '':\n",
    "            continue\n",
    "        cat = find_category(css_class)\n",
    "        if cat is None:\n",
    "            print(css_class)\n",
    "            continue\n",
    "        if filter_categories[cat]:\n",
    "            filter_categories[cat] += ', {}'.format(css_class)\n",
    "        else:\n",
    "            filter_categories[cat] = css_class\n",
    "    \n",
    "    return Chrysamthemum(\n",
    "        id=id,\n",
    "        name=name,\n",
    "        **filter_categories\n",
    "    )"
   ]
  },
  {
   "cell_type": "code",
   "execution_count": 6,
   "metadata": {},
   "outputs": [],
   "source": [
    "products = []\n",
    "container = soup.find(id='isotope-container')\n",
    "for pr in container.find_all('div', class_='product'):\n",
    "    products.append(parse_product(pr))"
   ]
  },
  {
   "cell_type": "code",
   "execution_count": 7,
   "metadata": {},
   "outputs": [],
   "source": [
    "df = pd.DataFrame.from_records(products, columns=Chrysamthemum._fields)"
   ]
  },
  {
   "cell_type": "code",
   "execution_count": 8,
   "metadata": {},
   "outputs": [],
   "source": [
    "gc = pygsheets.authorize()"
   ]
  },
  {
   "cell_type": "code",
   "execution_count": 9,
   "metadata": {},
   "outputs": [],
   "source": [
    "sheet = gc.create('brandkamp', parent_id='0B_ntZsb545hpRG8wdDR5T1l4d28')"
   ]
  },
  {
   "cell_type": "code",
   "execution_count": 10,
   "metadata": {},
   "outputs": [],
   "source": [
    "worksheet = sheet.sheet1"
   ]
  },
  {
   "cell_type": "code",
   "execution_count": 11,
   "metadata": {},
   "outputs": [],
   "source": [
    "worksheet.set_dataframe(df, 'A1')"
   ]
  },
  {
   "cell_type": "code",
   "execution_count": 12,
   "metadata": {},
   "outputs": [],
   "source": [
    "worksheet.sync()"
   ]
  }
 ],
 "metadata": {
  "kernelspec": {
   "display_name": "Python 3",
   "language": "python",
   "name": "python3"
  },
  "language_info": {
   "codemirror_mode": {
    "name": "ipython",
    "version": 3
   },
   "file_extension": ".py",
   "mimetype": "text/x-python",
   "name": "python",
   "nbconvert_exporter": "python",
   "pygments_lexer": "ipython3",
   "version": "3.6.4"
  }
 },
 "nbformat": 4,
 "nbformat_minor": 1
}
